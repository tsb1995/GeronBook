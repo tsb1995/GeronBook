{
 "cells": [
  {
   "cell_type": "code",
   "execution_count": 21,
   "metadata": {},
   "outputs": [],
   "source": [
    "import numpy as np\n",
    "import pandas as pd\n",
    "import os\n",
    "import urllib\n",
    "import tarfile\n",
    "from sklearn.model_selection import StratifiedShuffleSplit as SSS\n",
    "from sklearn.pipeline import Pipeline\n",
    "from sklearn.impute import SimpleImputer\n",
    "from sklearn.preprocessing import OneHotEncoder, StandardScaler\n",
    "from sklearn.compose import ColumnTransformer\n",
    "from sklearn.svm import SVR\n",
    "from sklearn.ensemble import RandomForestRegressor\n",
    "from sklearn.metrics import mean_squared_error\n",
    "from sklearn.model_selection import GridSearchCV, RandomizedSearchCV\n",
    "import joblib\n",
    "from scipy.stats import expon, reciprocal"
   ]
  },
  {
   "cell_type": "code",
   "execution_count": 2,
   "metadata": {},
   "outputs": [],
   "source": [
    "DOWNLOAD_ROOT = \"https://raw.githubusercontent.com/ageron/handson-ml2/master/\"\n",
    "HOUSING_PATH = os.path.join(\"datasets\", \"housing\")\n",
    "HOUSING_URL = DOWNLOAD_ROOT + \"datasets/housing/housing.tgz\""
   ]
  },
  {
   "cell_type": "code",
   "execution_count": 3,
   "metadata": {},
   "outputs": [],
   "source": [
    "def fetch_housing_data(housing_url=HOUSING_URL, housing_path=HOUSING_PATH):\n",
    "    os.makedirs(housing_path, exist_ok = True) # Create directory if not already there\n",
    "    tgz_path = os.path.join(housing_path, 'housing.tgz') # Make path for our tgz file\n",
    "    urllib.request.urlretrieve(housing_url, tgz_path) # Download the file\n",
    "    housing_tgz = tarfile.open(tgz_path) # Open the file\n",
    "    housing_tgz.extractall(path=housing_path) # Extract from tarfile\n",
    "    housing_tgz.close()"
   ]
  },
  {
   "cell_type": "code",
   "execution_count": 4,
   "metadata": {},
   "outputs": [],
   "source": [
    "fetch_housing_data()"
   ]
  },
  {
   "cell_type": "code",
   "execution_count": 5,
   "metadata": {},
   "outputs": [],
   "source": [
    "def load_housing_data(housing_path=HOUSING_PATH):\n",
    "    csv_path = os.path.join(housing_path, 'housing.csv')\n",
    "    return pd.read_csv(csv_path)"
   ]
  },
  {
   "cell_type": "code",
   "execution_count": 6,
   "metadata": {},
   "outputs": [
    {
     "data": {
      "text/html": [
       "<div>\n",
       "<style scoped>\n",
       "    .dataframe tbody tr th:only-of-type {\n",
       "        vertical-align: middle;\n",
       "    }\n",
       "\n",
       "    .dataframe tbody tr th {\n",
       "        vertical-align: top;\n",
       "    }\n",
       "\n",
       "    .dataframe thead th {\n",
       "        text-align: right;\n",
       "    }\n",
       "</style>\n",
       "<table border=\"1\" class=\"dataframe\">\n",
       "  <thead>\n",
       "    <tr style=\"text-align: right;\">\n",
       "      <th></th>\n",
       "      <th>longitude</th>\n",
       "      <th>latitude</th>\n",
       "      <th>housing_median_age</th>\n",
       "      <th>total_rooms</th>\n",
       "      <th>total_bedrooms</th>\n",
       "      <th>population</th>\n",
       "      <th>households</th>\n",
       "      <th>median_income</th>\n",
       "      <th>median_house_value</th>\n",
       "      <th>ocean_proximity</th>\n",
       "    </tr>\n",
       "  </thead>\n",
       "  <tbody>\n",
       "    <tr>\n",
       "      <td>0</td>\n",
       "      <td>-122.23</td>\n",
       "      <td>37.88</td>\n",
       "      <td>41.0</td>\n",
       "      <td>880.0</td>\n",
       "      <td>129.0</td>\n",
       "      <td>322.0</td>\n",
       "      <td>126.0</td>\n",
       "      <td>8.3252</td>\n",
       "      <td>452600.0</td>\n",
       "      <td>NEAR BAY</td>\n",
       "    </tr>\n",
       "    <tr>\n",
       "      <td>1</td>\n",
       "      <td>-122.22</td>\n",
       "      <td>37.86</td>\n",
       "      <td>21.0</td>\n",
       "      <td>7099.0</td>\n",
       "      <td>1106.0</td>\n",
       "      <td>2401.0</td>\n",
       "      <td>1138.0</td>\n",
       "      <td>8.3014</td>\n",
       "      <td>358500.0</td>\n",
       "      <td>NEAR BAY</td>\n",
       "    </tr>\n",
       "    <tr>\n",
       "      <td>2</td>\n",
       "      <td>-122.24</td>\n",
       "      <td>37.85</td>\n",
       "      <td>52.0</td>\n",
       "      <td>1467.0</td>\n",
       "      <td>190.0</td>\n",
       "      <td>496.0</td>\n",
       "      <td>177.0</td>\n",
       "      <td>7.2574</td>\n",
       "      <td>352100.0</td>\n",
       "      <td>NEAR BAY</td>\n",
       "    </tr>\n",
       "    <tr>\n",
       "      <td>3</td>\n",
       "      <td>-122.25</td>\n",
       "      <td>37.85</td>\n",
       "      <td>52.0</td>\n",
       "      <td>1274.0</td>\n",
       "      <td>235.0</td>\n",
       "      <td>558.0</td>\n",
       "      <td>219.0</td>\n",
       "      <td>5.6431</td>\n",
       "      <td>341300.0</td>\n",
       "      <td>NEAR BAY</td>\n",
       "    </tr>\n",
       "    <tr>\n",
       "      <td>4</td>\n",
       "      <td>-122.25</td>\n",
       "      <td>37.85</td>\n",
       "      <td>52.0</td>\n",
       "      <td>1627.0</td>\n",
       "      <td>280.0</td>\n",
       "      <td>565.0</td>\n",
       "      <td>259.0</td>\n",
       "      <td>3.8462</td>\n",
       "      <td>342200.0</td>\n",
       "      <td>NEAR BAY</td>\n",
       "    </tr>\n",
       "  </tbody>\n",
       "</table>\n",
       "</div>"
      ],
      "text/plain": [
       "   longitude  latitude  housing_median_age  total_rooms  total_bedrooms  \\\n",
       "0    -122.23     37.88                41.0        880.0           129.0   \n",
       "1    -122.22     37.86                21.0       7099.0          1106.0   \n",
       "2    -122.24     37.85                52.0       1467.0           190.0   \n",
       "3    -122.25     37.85                52.0       1274.0           235.0   \n",
       "4    -122.25     37.85                52.0       1627.0           280.0   \n",
       "\n",
       "   population  households  median_income  median_house_value ocean_proximity  \n",
       "0       322.0       126.0         8.3252            452600.0        NEAR BAY  \n",
       "1      2401.0      1138.0         8.3014            358500.0        NEAR BAY  \n",
       "2       496.0       177.0         7.2574            352100.0        NEAR BAY  \n",
       "3       558.0       219.0         5.6431            341300.0        NEAR BAY  \n",
       "4       565.0       259.0         3.8462            342200.0        NEAR BAY  "
      ]
     },
     "execution_count": 6,
     "metadata": {},
     "output_type": "execute_result"
    }
   ],
   "source": [
    "housing = load_housing_data()\n",
    "housing.head()"
   ]
  },
  {
   "cell_type": "code",
   "execution_count": 7,
   "metadata": {},
   "outputs": [],
   "source": [
    "# Now we want to do some stratified sampling based on median_income which seems to be fairly important\n",
    "\n",
    "housing['income_cat'] = pd.cut(housing['median_income'], # Chopping up median income because it's important\n",
    "                              bins=[0., 1.5, 3.0, 4.5, 6., np.inf], # Chop into categories of 0 to 1.5, 1.5 to 3, etc\n",
    "                              labels=[1,2,3,4,5]) # Generic labels\n",
    "\n",
    "split = SSS(n_splits=1, test_size=0.2, random_state=42) # Initialize our split with proper test size/random state to match book\n",
    "for train_index, test_index in split.split(housing, housing['income_cat']):\n",
    "    strat_train_set = housing.loc[train_index]\n",
    "    strat_test_set = housing.loc[test_index]"
   ]
  },
  {
   "cell_type": "code",
   "execution_count": 8,
   "metadata": {},
   "outputs": [],
   "source": [
    "# Now that we finished with our income_cat feature we can drop it\n",
    "\n",
    "for set_ in (strat_train_set, strat_test_set):\n",
    "    set_.drop('income_cat', axis=1, inplace=True)"
   ]
  },
  {
   "cell_type": "code",
   "execution_count": 9,
   "metadata": {},
   "outputs": [],
   "source": [
    "housing = strat_train_set.drop('median_house_value', axis=1)\n",
    "housing_labels = strat_train_set['median_house_value'].copy()"
   ]
  },
  {
   "cell_type": "code",
   "execution_count": 10,
   "metadata": {},
   "outputs": [],
   "source": [
    "from sklearn.base import BaseEstimator, TransformerMixin\n",
    "\n",
    "# column index\n",
    "rooms_ix, bedrooms_ix, population_ix, households_ix = 3, 4, 5, 6\n",
    "\n",
    "class CombinedAttributesAdder(BaseEstimator, TransformerMixin):\n",
    "    def __init__(self, add_bedrooms_per_room = True): # no *args or **kargs\n",
    "        self.add_bedrooms_per_room = add_bedrooms_per_room\n",
    "    def fit(self, X, y=None):\n",
    "        return self  # nothing else to do\n",
    "    def transform(self, X):\n",
    "        rooms_per_household = X[:, rooms_ix] / X[:, households_ix]\n",
    "        population_per_household = X[:, population_ix] / X[:, households_ix]\n",
    "        if self.add_bedrooms_per_room:\n",
    "            bedrooms_per_room = X[:, bedrooms_ix] / X[:, rooms_ix]\n",
    "            return np.c_[X, rooms_per_household, population_per_household,\n",
    "                         bedrooms_per_room]\n",
    "        else:\n",
    "            return np.c_[X, rooms_per_household, population_per_household]\n",
    "\n",
    "attr_adder = CombinedAttributesAdder(add_bedrooms_per_room=False)\n",
    "housing_extra_attribs = attr_adder.transform(housing.values)"
   ]
  },
  {
   "cell_type": "code",
   "execution_count": 11,
   "metadata": {},
   "outputs": [],
   "source": [
    "# Setup a pipeline to do all we've done already for numerical features\n",
    "# Note that all estimators but the last must be transformers(specifically they must have a\n",
    "# fit_transform() method)\n",
    "\n",
    "num_pipeline = Pipeline([\n",
    "    ('imputer', SimpleImputer(strategy='median')),\n",
    "    ('attribs_adder', CombinedAttributesAdder()), \n",
    "    ('std_scaler', StandardScaler())\n",
    "]) "
   ]
  },
  {
   "cell_type": "code",
   "execution_count": 12,
   "metadata": {},
   "outputs": [],
   "source": [
    "housing_num = housing.drop('ocean_proximity', axis=1) # Drop non numerical feature for imputation\n",
    "housing_cat = housing[['ocean_proximity']] # doubles brackets to get a dataframe instead of a series"
   ]
  },
  {
   "cell_type": "code",
   "execution_count": 29,
   "metadata": {},
   "outputs": [],
   "source": [
    "# Our previous pipeline applies to all columns in a dataframe. To deal with both our categorical and\n",
    "# numerical features at once we use ColumnTransformer to perform our pipeline only on numerical features\n",
    "# and OneHotEncoder only on categorical features\n",
    "\n",
    "num_attribs = list(housing_num)\n",
    "cat_attribs = ['ocean_proximity']\n",
    "\n",
    "full_pipeline = ColumnTransformer([\n",
    "    ('num', num_pipeline, num_attribs), \n",
    "    ('cat', OneHotEncoder(), cat_attribs)\n",
    "])\n",
    "\n",
    "housing_prepared = full_pipeline.fit_transform(housing)"
   ]
  },
  {
   "cell_type": "markdown",
   "metadata": {},
   "source": [
    "**Exercise One**\n",
    "\n",
    "Try with an SVM!"
   ]
  },
  {
   "cell_type": "code",
   "execution_count": 18,
   "metadata": {},
   "outputs": [
    {
     "name": "stderr",
     "output_type": "stream",
     "text": [
      "c:\\users\\tsb\\appdata\\local\\programs\\python\\python37\\lib\\site-packages\\sklearn\\svm\\base.py:193: FutureWarning: The default value of gamma will change from 'auto' to 'scale' in version 0.22 to account better for unscaled features. Set gamma explicitly to 'auto' or 'scale' to avoid this warning.\n",
      "  \"avoid this warning.\", FutureWarning)\n"
     ]
    },
    {
     "data": {
      "text/plain": [
       "SVR(C=1.0, cache_size=200, coef0=0.0, degree=3, epsilon=0.1,\n",
       "    gamma='auto_deprecated', kernel='rbf', max_iter=-1, shrinking=True,\n",
       "    tol=0.001, verbose=False)"
      ]
     },
     "execution_count": 18,
     "metadata": {},
     "output_type": "execute_result"
    }
   ],
   "source": [
    "# Simple Support Vector Machine\n",
    "\n",
    "SVR_model = SVR()\n",
    "SVR_model.fit(housing_prepared, housing_labels)"
   ]
  },
  {
   "cell_type": "code",
   "execution_count": 15,
   "metadata": {},
   "outputs": [
    {
     "data": {
      "text/plain": [
       "118577.43356412371"
      ]
     },
     "execution_count": 15,
     "metadata": {},
     "output_type": "execute_result"
    }
   ],
   "source": [
    "SVR_pred = SVR_model.predict(housing_prepared)\n",
    "SVR_mse = mean_squared_error(SVR_pred, housing_labels)\n",
    "SVR_rmse = np.sqrt (SVR_mse)\n",
    "SVR_rmse"
   ]
  },
  {
   "cell_type": "code",
   "execution_count": 60,
   "metadata": {},
   "outputs": [
    {
     "name": "stdout",
     "output_type": "stream",
     "text": [
      "Fitting 5 folds for each of 72 candidates, totalling 360 fits\n",
      "[CV] C=10.0, gamma=0.01, kernel=linear ...............................\n"
     ]
    },
    {
     "name": "stderr",
     "output_type": "stream",
     "text": [
      "[Parallel(n_jobs=1)]: Using backend SequentialBackend with 1 concurrent workers.\n"
     ]
    },
    {
     "name": "stdout",
     "output_type": "stream",
     "text": [
      "[CV] ................ C=10.0, gamma=0.01, kernel=linear, total=   4.4s\n",
      "[CV] C=10.0, gamma=0.01, kernel=linear ...............................\n"
     ]
    },
    {
     "name": "stderr",
     "output_type": "stream",
     "text": [
      "[Parallel(n_jobs=1)]: Done   1 out of   1 | elapsed:    6.1s remaining:    0.0s\n"
     ]
    },
    {
     "name": "stdout",
     "output_type": "stream",
     "text": [
      "[CV] ................ C=10.0, gamma=0.01, kernel=linear, total=   4.3s\n",
      "[CV] C=10.0, gamma=0.01, kernel=linear ...............................\n",
      "[CV] ................ C=10.0, gamma=0.01, kernel=linear, total=   4.4s\n",
      "[CV] C=10.0, gamma=0.01, kernel=linear ...............................\n",
      "[CV] ................ C=10.0, gamma=0.01, kernel=linear, total=   4.3s\n",
      "[CV] C=10.0, gamma=0.01, kernel=linear ...............................\n",
      "[CV] ................ C=10.0, gamma=0.01, kernel=linear, total=   4.4s\n",
      "[CV] C=10.0, gamma=0.01, kernel=rbf ..................................\n",
      "[CV] ................... C=10.0, gamma=0.01, kernel=rbf, total=   7.4s\n",
      "[CV] C=10.0, gamma=0.01, kernel=rbf ..................................\n",
      "[CV] ................... C=10.0, gamma=0.01, kernel=rbf, total=   7.4s\n",
      "[CV] C=10.0, gamma=0.01, kernel=rbf ..................................\n",
      "[CV] ................... C=10.0, gamma=0.01, kernel=rbf, total=   7.4s\n",
      "[CV] C=10.0, gamma=0.01, kernel=rbf ..................................\n",
      "[CV] ................... C=10.0, gamma=0.01, kernel=rbf, total=   7.4s\n",
      "[CV] C=10.0, gamma=0.01, kernel=rbf ..................................\n",
      "[CV] ................... C=10.0, gamma=0.01, kernel=rbf, total=   7.4s\n",
      "[CV] C=10.0, gamma=0.03, kernel=linear ...............................\n",
      "[CV] ................ C=10.0, gamma=0.03, kernel=linear, total=   4.3s\n",
      "[CV] C=10.0, gamma=0.03, kernel=linear ...............................\n",
      "[CV] ................ C=10.0, gamma=0.03, kernel=linear, total=   4.4s\n",
      "[CV] C=10.0, gamma=0.03, kernel=linear ...............................\n",
      "[CV] ................ C=10.0, gamma=0.03, kernel=linear, total=   4.3s\n",
      "[CV] C=10.0, gamma=0.03, kernel=linear ...............................\n",
      "[CV] ................ C=10.0, gamma=0.03, kernel=linear, total=   4.4s\n",
      "[CV] C=10.0, gamma=0.03, kernel=linear ...............................\n",
      "[CV] ................ C=10.0, gamma=0.03, kernel=linear, total=   4.3s\n",
      "[CV] C=10.0, gamma=0.03, kernel=rbf ..................................\n",
      "[CV] ................... C=10.0, gamma=0.03, kernel=rbf, total=   7.3s\n",
      "[CV] C=10.0, gamma=0.03, kernel=rbf ..................................\n",
      "[CV] ................... C=10.0, gamma=0.03, kernel=rbf, total=   7.4s\n",
      "[CV] C=10.0, gamma=0.03, kernel=rbf ..................................\n",
      "[CV] ................... C=10.0, gamma=0.03, kernel=rbf, total=   7.3s\n",
      "[CV] C=10.0, gamma=0.03, kernel=rbf ..................................\n",
      "[CV] ................... C=10.0, gamma=0.03, kernel=rbf, total=   7.4s\n",
      "[CV] C=10.0, gamma=0.03, kernel=rbf ..................................\n",
      "[CV] ................... C=10.0, gamma=0.03, kernel=rbf, total=   7.4s\n",
      "[CV] C=10.0, gamma=0.1, kernel=linear ................................\n",
      "[CV] ................. C=10.0, gamma=0.1, kernel=linear, total=   4.3s\n",
      "[CV] C=10.0, gamma=0.1, kernel=linear ................................\n",
      "[CV] ................. C=10.0, gamma=0.1, kernel=linear, total=   4.3s\n",
      "[CV] C=10.0, gamma=0.1, kernel=linear ................................\n",
      "[CV] ................. C=10.0, gamma=0.1, kernel=linear, total=   4.3s\n",
      "[CV] C=10.0, gamma=0.1, kernel=linear ................................\n",
      "[CV] ................. C=10.0, gamma=0.1, kernel=linear, total=   4.4s\n",
      "[CV] C=10.0, gamma=0.1, kernel=linear ................................\n",
      "[CV] ................. C=10.0, gamma=0.1, kernel=linear, total=   4.3s\n",
      "[CV] C=10.0, gamma=0.1, kernel=rbf ...................................\n",
      "[CV] .................... C=10.0, gamma=0.1, kernel=rbf, total=   7.3s\n",
      "[CV] C=10.0, gamma=0.1, kernel=rbf ...................................\n",
      "[CV] .................... C=10.0, gamma=0.1, kernel=rbf, total=   7.3s\n",
      "[CV] C=10.0, gamma=0.1, kernel=rbf ...................................\n",
      "[CV] .................... C=10.0, gamma=0.1, kernel=rbf, total=   7.3s\n",
      "[CV] C=10.0, gamma=0.1, kernel=rbf ...................................\n",
      "[CV] .................... C=10.0, gamma=0.1, kernel=rbf, total=   7.2s\n",
      "[CV] C=10.0, gamma=0.1, kernel=rbf ...................................\n",
      "[CV] .................... C=10.0, gamma=0.1, kernel=rbf, total=   7.7s\n",
      "[CV] C=10.0, gamma=0.3, kernel=linear ................................\n",
      "[CV] ................. C=10.0, gamma=0.3, kernel=linear, total=   4.4s\n",
      "[CV] C=10.0, gamma=0.3, kernel=linear ................................\n",
      "[CV] ................. C=10.0, gamma=0.3, kernel=linear, total=   4.4s\n",
      "[CV] C=10.0, gamma=0.3, kernel=linear ................................\n",
      "[CV] ................. C=10.0, gamma=0.3, kernel=linear, total=   4.4s\n",
      "[CV] C=10.0, gamma=0.3, kernel=linear ................................\n",
      "[CV] ................. C=10.0, gamma=0.3, kernel=linear, total=   4.3s\n",
      "[CV] C=10.0, gamma=0.3, kernel=linear ................................\n",
      "[CV] ................. C=10.0, gamma=0.3, kernel=linear, total=   4.3s\n",
      "[CV] C=10.0, gamma=0.3, kernel=rbf ...................................\n",
      "[CV] .................... C=10.0, gamma=0.3, kernel=rbf, total=   7.1s\n",
      "[CV] C=10.0, gamma=0.3, kernel=rbf ...................................\n",
      "[CV] .................... C=10.0, gamma=0.3, kernel=rbf, total=   7.1s\n",
      "[CV] C=10.0, gamma=0.3, kernel=rbf ...................................\n",
      "[CV] .................... C=10.0, gamma=0.3, kernel=rbf, total=   7.1s\n",
      "[CV] C=10.0, gamma=0.3, kernel=rbf ...................................\n",
      "[CV] .................... C=10.0, gamma=0.3, kernel=rbf, total=   7.1s\n",
      "[CV] C=10.0, gamma=0.3, kernel=rbf ...................................\n",
      "[CV] .................... C=10.0, gamma=0.3, kernel=rbf, total=   7.2s\n",
      "[CV] C=10.0, gamma=1.0, kernel=linear ................................\n",
      "[CV] ................. C=10.0, gamma=1.0, kernel=linear, total=   4.3s\n",
      "[CV] C=10.0, gamma=1.0, kernel=linear ................................\n",
      "[CV] ................. C=10.0, gamma=1.0, kernel=linear, total=   4.4s\n",
      "[CV] C=10.0, gamma=1.0, kernel=linear ................................\n",
      "[CV] ................. C=10.0, gamma=1.0, kernel=linear, total=   4.3s\n",
      "[CV] C=10.0, gamma=1.0, kernel=linear ................................\n",
      "[CV] ................. C=10.0, gamma=1.0, kernel=linear, total=   4.3s\n",
      "[CV] C=10.0, gamma=1.0, kernel=linear ................................\n",
      "[CV] ................. C=10.0, gamma=1.0, kernel=linear, total=   4.4s\n",
      "[CV] C=10.0, gamma=1.0, kernel=rbf ...................................\n",
      "[CV] .................... C=10.0, gamma=1.0, kernel=rbf, total=   6.9s\n",
      "[CV] C=10.0, gamma=1.0, kernel=rbf ...................................\n",
      "[CV] .................... C=10.0, gamma=1.0, kernel=rbf, total=   6.9s\n",
      "[CV] C=10.0, gamma=1.0, kernel=rbf ...................................\n",
      "[CV] .................... C=10.0, gamma=1.0, kernel=rbf, total=   6.9s\n",
      "[CV] C=10.0, gamma=1.0, kernel=rbf ...................................\n",
      "[CV] .................... C=10.0, gamma=1.0, kernel=rbf, total=   6.9s\n",
      "[CV] C=10.0, gamma=1.0, kernel=rbf ...................................\n",
      "[CV] .................... C=10.0, gamma=1.0, kernel=rbf, total=   6.8s\n",
      "[CV] C=10.0, gamma=3.0, kernel=linear ................................\n",
      "[CV] ................. C=10.0, gamma=3.0, kernel=linear, total=   4.3s\n",
      "[CV] C=10.0, gamma=3.0, kernel=linear ................................\n",
      "[CV] ................. C=10.0, gamma=3.0, kernel=linear, total=   4.4s\n",
      "[CV] C=10.0, gamma=3.0, kernel=linear ................................\n",
      "[CV] ................. C=10.0, gamma=3.0, kernel=linear, total=   4.3s\n",
      "[CV] C=10.0, gamma=3.0, kernel=linear ................................\n",
      "[CV] ................. C=10.0, gamma=3.0, kernel=linear, total=   4.3s\n",
      "[CV] C=10.0, gamma=3.0, kernel=linear ................................\n",
      "[CV] ................. C=10.0, gamma=3.0, kernel=linear, total=   4.3s\n",
      "[CV] C=10.0, gamma=3.0, kernel=rbf ...................................\n",
      "[CV] .................... C=10.0, gamma=3.0, kernel=rbf, total=   7.6s\n",
      "[CV] C=10.0, gamma=3.0, kernel=rbf ...................................\n",
      "[CV] .................... C=10.0, gamma=3.0, kernel=rbf, total=   7.6s\n",
      "[CV] C=10.0, gamma=3.0, kernel=rbf ...................................\n",
      "[CV] .................... C=10.0, gamma=3.0, kernel=rbf, total=   7.6s\n",
      "[CV] C=10.0, gamma=3.0, kernel=rbf ...................................\n",
      "[CV] .................... C=10.0, gamma=3.0, kernel=rbf, total=   7.6s\n",
      "[CV] C=10.0, gamma=3.0, kernel=rbf ...................................\n"
     ]
    },
    {
     "name": "stdout",
     "output_type": "stream",
     "text": [
      "[CV] .................... C=10.0, gamma=3.0, kernel=rbf, total=   7.6s\n",
      "[CV] C=30.0, gamma=0.01, kernel=linear ...............................\n",
      "[CV] ................ C=30.0, gamma=0.01, kernel=linear, total=   4.3s\n",
      "[CV] C=30.0, gamma=0.01, kernel=linear ...............................\n",
      "[CV] ................ C=30.0, gamma=0.01, kernel=linear, total=   4.3s\n",
      "[CV] C=30.0, gamma=0.01, kernel=linear ...............................\n",
      "[CV] ................ C=30.0, gamma=0.01, kernel=linear, total=   4.4s\n",
      "[CV] C=30.0, gamma=0.01, kernel=linear ...............................\n",
      "[CV] ................ C=30.0, gamma=0.01, kernel=linear, total=   4.4s\n",
      "[CV] C=30.0, gamma=0.01, kernel=linear ...............................\n",
      "[CV] ................ C=30.0, gamma=0.01, kernel=linear, total=   4.2s\n",
      "[CV] C=30.0, gamma=0.01, kernel=rbf ..................................\n",
      "[CV] ................... C=30.0, gamma=0.01, kernel=rbf, total=   7.4s\n",
      "[CV] C=30.0, gamma=0.01, kernel=rbf ..................................\n",
      "[CV] ................... C=30.0, gamma=0.01, kernel=rbf, total=   7.4s\n",
      "[CV] C=30.0, gamma=0.01, kernel=rbf ..................................\n",
      "[CV] ................... C=30.0, gamma=0.01, kernel=rbf, total=   7.4s\n",
      "[CV] C=30.0, gamma=0.01, kernel=rbf ..................................\n",
      "[CV] ................... C=30.0, gamma=0.01, kernel=rbf, total=   7.3s\n",
      "[CV] C=30.0, gamma=0.01, kernel=rbf ..................................\n",
      "[CV] ................... C=30.0, gamma=0.01, kernel=rbf, total=   7.4s\n",
      "[CV] C=30.0, gamma=0.03, kernel=linear ...............................\n",
      "[CV] ................ C=30.0, gamma=0.03, kernel=linear, total=   4.3s\n",
      "[CV] C=30.0, gamma=0.03, kernel=linear ...............................\n",
      "[CV] ................ C=30.0, gamma=0.03, kernel=linear, total=   4.3s\n",
      "[CV] C=30.0, gamma=0.03, kernel=linear ...............................\n",
      "[CV] ................ C=30.0, gamma=0.03, kernel=linear, total=   4.4s\n",
      "[CV] C=30.0, gamma=0.03, kernel=linear ...............................\n",
      "[CV] ................ C=30.0, gamma=0.03, kernel=linear, total=   4.3s\n",
      "[CV] C=30.0, gamma=0.03, kernel=linear ...............................\n",
      "[CV] ................ C=30.0, gamma=0.03, kernel=linear, total=   4.3s\n",
      "[CV] C=30.0, gamma=0.03, kernel=rbf ..................................\n",
      "[CV] ................... C=30.0, gamma=0.03, kernel=rbf, total=   7.4s\n",
      "[CV] C=30.0, gamma=0.03, kernel=rbf ..................................\n",
      "[CV] ................... C=30.0, gamma=0.03, kernel=rbf, total=   7.3s\n",
      "[CV] C=30.0, gamma=0.03, kernel=rbf ..................................\n",
      "[CV] ................... C=30.0, gamma=0.03, kernel=rbf, total=   7.6s\n",
      "[CV] C=30.0, gamma=0.03, kernel=rbf ..................................\n",
      "[CV] ................... C=30.0, gamma=0.03, kernel=rbf, total=   7.3s\n",
      "[CV] C=30.0, gamma=0.03, kernel=rbf ..................................\n",
      "[CV] ................... C=30.0, gamma=0.03, kernel=rbf, total=   7.4s\n",
      "[CV] C=30.0, gamma=0.1, kernel=linear ................................\n",
      "[CV] ................. C=30.0, gamma=0.1, kernel=linear, total=   4.2s\n",
      "[CV] C=30.0, gamma=0.1, kernel=linear ................................\n",
      "[CV] ................. C=30.0, gamma=0.1, kernel=linear, total=   4.4s\n",
      "[CV] C=30.0, gamma=0.1, kernel=linear ................................\n",
      "[CV] ................. C=30.0, gamma=0.1, kernel=linear, total=   4.4s\n",
      "[CV] C=30.0, gamma=0.1, kernel=linear ................................\n",
      "[CV] ................. C=30.0, gamma=0.1, kernel=linear, total=   4.3s\n",
      "[CV] C=30.0, gamma=0.1, kernel=linear ................................\n",
      "[CV] ................. C=30.0, gamma=0.1, kernel=linear, total=   4.3s\n",
      "[CV] C=30.0, gamma=0.1, kernel=rbf ...................................\n",
      "[CV] .................... C=30.0, gamma=0.1, kernel=rbf, total=   7.2s\n",
      "[CV] C=30.0, gamma=0.1, kernel=rbf ...................................\n",
      "[CV] .................... C=30.0, gamma=0.1, kernel=rbf, total=   7.3s\n",
      "[CV] C=30.0, gamma=0.1, kernel=rbf ...................................\n",
      "[CV] .................... C=30.0, gamma=0.1, kernel=rbf, total=   7.2s\n",
      "[CV] C=30.0, gamma=0.1, kernel=rbf ...................................\n",
      "[CV] .................... C=30.0, gamma=0.1, kernel=rbf, total=   7.3s\n",
      "[CV] C=30.0, gamma=0.1, kernel=rbf ...................................\n",
      "[CV] .................... C=30.0, gamma=0.1, kernel=rbf, total=   7.2s\n",
      "[CV] C=30.0, gamma=0.3, kernel=linear ................................\n",
      "[CV] ................. C=30.0, gamma=0.3, kernel=linear, total=   4.2s\n",
      "[CV] C=30.0, gamma=0.3, kernel=linear ................................\n",
      "[CV] ................. C=30.0, gamma=0.3, kernel=linear, total=   4.3s\n",
      "[CV] C=30.0, gamma=0.3, kernel=linear ................................\n",
      "[CV] ................. C=30.0, gamma=0.3, kernel=linear, total=   4.4s\n",
      "[CV] C=30.0, gamma=0.3, kernel=linear ................................\n",
      "[CV] ................. C=30.0, gamma=0.3, kernel=linear, total=   4.4s\n",
      "[CV] C=30.0, gamma=0.3, kernel=linear ................................\n",
      "[CV] ................. C=30.0, gamma=0.3, kernel=linear, total=   4.3s\n",
      "[CV] C=30.0, gamma=0.3, kernel=rbf ...................................\n",
      "[CV] .................... C=30.0, gamma=0.3, kernel=rbf, total=   7.1s\n",
      "[CV] C=30.0, gamma=0.3, kernel=rbf ...................................\n",
      "[CV] .................... C=30.0, gamma=0.3, kernel=rbf, total=   7.1s\n",
      "[CV] C=30.0, gamma=0.3, kernel=rbf ...................................\n",
      "[CV] .................... C=30.0, gamma=0.3, kernel=rbf, total=   7.0s\n",
      "[CV] C=30.0, gamma=0.3, kernel=rbf ...................................\n",
      "[CV] .................... C=30.0, gamma=0.3, kernel=rbf, total=   7.1s\n",
      "[CV] C=30.0, gamma=0.3, kernel=rbf ...................................\n",
      "[CV] .................... C=30.0, gamma=0.3, kernel=rbf, total=   7.0s\n",
      "[CV] C=30.0, gamma=1.0, kernel=linear ................................\n",
      "[CV] ................. C=30.0, gamma=1.0, kernel=linear, total=   4.3s\n",
      "[CV] C=30.0, gamma=1.0, kernel=linear ................................\n",
      "[CV] ................. C=30.0, gamma=1.0, kernel=linear, total=   4.2s\n",
      "[CV] C=30.0, gamma=1.0, kernel=linear ................................\n",
      "[CV] ................. C=30.0, gamma=1.0, kernel=linear, total=   4.4s\n",
      "[CV] C=30.0, gamma=1.0, kernel=linear ................................\n",
      "[CV] ................. C=30.0, gamma=1.0, kernel=linear, total=   4.3s\n",
      "[CV] C=30.0, gamma=1.0, kernel=linear ................................\n",
      "[CV] ................. C=30.0, gamma=1.0, kernel=linear, total=   4.2s\n",
      "[CV] C=30.0, gamma=1.0, kernel=rbf ...................................\n",
      "[CV] .................... C=30.0, gamma=1.0, kernel=rbf, total=   6.9s\n",
      "[CV] C=30.0, gamma=1.0, kernel=rbf ...................................\n",
      "[CV] .................... C=30.0, gamma=1.0, kernel=rbf, total=   6.9s\n",
      "[CV] C=30.0, gamma=1.0, kernel=rbf ...................................\n",
      "[CV] .................... C=30.0, gamma=1.0, kernel=rbf, total=   6.9s\n",
      "[CV] C=30.0, gamma=1.0, kernel=rbf ...................................\n",
      "[CV] .................... C=30.0, gamma=1.0, kernel=rbf, total=   6.9s\n",
      "[CV] C=30.0, gamma=1.0, kernel=rbf ...................................\n",
      "[CV] .................... C=30.0, gamma=1.0, kernel=rbf, total=   7.0s\n",
      "[CV] C=30.0, gamma=3.0, kernel=linear ................................\n",
      "[CV] ................. C=30.0, gamma=3.0, kernel=linear, total=   4.3s\n",
      "[CV] C=30.0, gamma=3.0, kernel=linear ................................\n",
      "[CV] ................. C=30.0, gamma=3.0, kernel=linear, total=   4.3s\n",
      "[CV] C=30.0, gamma=3.0, kernel=linear ................................\n",
      "[CV] ................. C=30.0, gamma=3.0, kernel=linear, total=   4.5s\n",
      "[CV] C=30.0, gamma=3.0, kernel=linear ................................\n",
      "[CV] ................. C=30.0, gamma=3.0, kernel=linear, total=   4.3s\n",
      "[CV] C=30.0, gamma=3.0, kernel=linear ................................\n",
      "[CV] ................. C=30.0, gamma=3.0, kernel=linear, total=   4.3s\n",
      "[CV] C=30.0, gamma=3.0, kernel=rbf ...................................\n",
      "[CV] .................... C=30.0, gamma=3.0, kernel=rbf, total=   7.6s\n",
      "[CV] C=30.0, gamma=3.0, kernel=rbf ...................................\n",
      "[CV] .................... C=30.0, gamma=3.0, kernel=rbf, total=   7.6s\n",
      "[CV] C=30.0, gamma=3.0, kernel=rbf ...................................\n"
     ]
    },
    {
     "name": "stdout",
     "output_type": "stream",
     "text": [
      "[CV] .................... C=30.0, gamma=3.0, kernel=rbf, total=   7.6s\n",
      "[CV] C=30.0, gamma=3.0, kernel=rbf ...................................\n",
      "[CV] .................... C=30.0, gamma=3.0, kernel=rbf, total=   7.6s\n",
      "[CV] C=30.0, gamma=3.0, kernel=rbf ...................................\n",
      "[CV] .................... C=30.0, gamma=3.0, kernel=rbf, total=   7.7s\n",
      "[CV] C=100.0, gamma=0.01, kernel=linear ..............................\n",
      "[CV] ............... C=100.0, gamma=0.01, kernel=linear, total=   4.3s\n",
      "[CV] C=100.0, gamma=0.01, kernel=linear ..............................\n",
      "[CV] ............... C=100.0, gamma=0.01, kernel=linear, total=   4.2s\n",
      "[CV] C=100.0, gamma=0.01, kernel=linear ..............................\n",
      "[CV] ............... C=100.0, gamma=0.01, kernel=linear, total=   4.4s\n",
      "[CV] C=100.0, gamma=0.01, kernel=linear ..............................\n",
      "[CV] ............... C=100.0, gamma=0.01, kernel=linear, total=   4.2s\n",
      "[CV] C=100.0, gamma=0.01, kernel=linear ..............................\n",
      "[CV] ............... C=100.0, gamma=0.01, kernel=linear, total=   4.3s\n",
      "[CV] C=100.0, gamma=0.01, kernel=rbf .................................\n",
      "[CV] .................. C=100.0, gamma=0.01, kernel=rbf, total=   7.3s\n",
      "[CV] C=100.0, gamma=0.01, kernel=rbf .................................\n",
      "[CV] .................. C=100.0, gamma=0.01, kernel=rbf, total=   7.4s\n",
      "[CV] C=100.0, gamma=0.01, kernel=rbf .................................\n",
      "[CV] .................. C=100.0, gamma=0.01, kernel=rbf, total=   7.3s\n",
      "[CV] C=100.0, gamma=0.01, kernel=rbf .................................\n",
      "[CV] .................. C=100.0, gamma=0.01, kernel=rbf, total=   7.3s\n",
      "[CV] C=100.0, gamma=0.01, kernel=rbf .................................\n",
      "[CV] .................. C=100.0, gamma=0.01, kernel=rbf, total=   7.4s\n",
      "[CV] C=100.0, gamma=0.03, kernel=linear ..............................\n",
      "[CV] ............... C=100.0, gamma=0.03, kernel=linear, total=   4.3s\n",
      "[CV] C=100.0, gamma=0.03, kernel=linear ..............................\n",
      "[CV] ............... C=100.0, gamma=0.03, kernel=linear, total=   4.3s\n",
      "[CV] C=100.0, gamma=0.03, kernel=linear ..............................\n",
      "[CV] ............... C=100.0, gamma=0.03, kernel=linear, total=   4.3s\n",
      "[CV] C=100.0, gamma=0.03, kernel=linear ..............................\n",
      "[CV] ............... C=100.0, gamma=0.03, kernel=linear, total=   4.3s\n",
      "[CV] C=100.0, gamma=0.03, kernel=linear ..............................\n",
      "[CV] ............... C=100.0, gamma=0.03, kernel=linear, total=   4.2s\n",
      "[CV] C=100.0, gamma=0.03, kernel=rbf .................................\n",
      "[CV] .................. C=100.0, gamma=0.03, kernel=rbf, total=   7.2s\n",
      "[CV] C=100.0, gamma=0.03, kernel=rbf .................................\n",
      "[CV] .................. C=100.0, gamma=0.03, kernel=rbf, total=   7.3s\n",
      "[CV] C=100.0, gamma=0.03, kernel=rbf .................................\n",
      "[CV] .................. C=100.0, gamma=0.03, kernel=rbf, total=   7.2s\n",
      "[CV] C=100.0, gamma=0.03, kernel=rbf .................................\n",
      "[CV] .................. C=100.0, gamma=0.03, kernel=rbf, total=   7.3s\n",
      "[CV] C=100.0, gamma=0.03, kernel=rbf .................................\n",
      "[CV] .................. C=100.0, gamma=0.03, kernel=rbf, total=   7.2s\n",
      "[CV] C=100.0, gamma=0.1, kernel=linear ...............................\n",
      "[CV] ................ C=100.0, gamma=0.1, kernel=linear, total=   4.3s\n",
      "[CV] C=100.0, gamma=0.1, kernel=linear ...............................\n",
      "[CV] ................ C=100.0, gamma=0.1, kernel=linear, total=   4.2s\n",
      "[CV] C=100.0, gamma=0.1, kernel=linear ...............................\n",
      "[CV] ................ C=100.0, gamma=0.1, kernel=linear, total=   4.3s\n",
      "[CV] C=100.0, gamma=0.1, kernel=linear ...............................\n",
      "[CV] ................ C=100.0, gamma=0.1, kernel=linear, total=   4.3s\n",
      "[CV] C=100.0, gamma=0.1, kernel=linear ...............................\n",
      "[CV] ................ C=100.0, gamma=0.1, kernel=linear, total=   4.2s\n",
      "[CV] C=100.0, gamma=0.1, kernel=rbf ..................................\n",
      "[CV] ................... C=100.0, gamma=0.1, kernel=rbf, total=   7.1s\n",
      "[CV] C=100.0, gamma=0.1, kernel=rbf ..................................\n",
      "[CV] ................... C=100.0, gamma=0.1, kernel=rbf, total=   7.1s\n",
      "[CV] C=100.0, gamma=0.1, kernel=rbf ..................................\n",
      "[CV] ................... C=100.0, gamma=0.1, kernel=rbf, total=   7.1s\n",
      "[CV] C=100.0, gamma=0.1, kernel=rbf ..................................\n",
      "[CV] ................... C=100.0, gamma=0.1, kernel=rbf, total=   7.1s\n",
      "[CV] C=100.0, gamma=0.1, kernel=rbf ..................................\n",
      "[CV] ................... C=100.0, gamma=0.1, kernel=rbf, total=   7.1s\n",
      "[CV] C=100.0, gamma=0.3, kernel=linear ...............................\n",
      "[CV] ................ C=100.0, gamma=0.3, kernel=linear, total=   4.4s\n",
      "[CV] C=100.0, gamma=0.3, kernel=linear ...............................\n",
      "[CV] ................ C=100.0, gamma=0.3, kernel=linear, total=   4.2s\n",
      "[CV] C=100.0, gamma=0.3, kernel=linear ...............................\n",
      "[CV] ................ C=100.0, gamma=0.3, kernel=linear, total=   4.4s\n",
      "[CV] C=100.0, gamma=0.3, kernel=linear ...............................\n",
      "[CV] ................ C=100.0, gamma=0.3, kernel=linear, total=   4.2s\n",
      "[CV] C=100.0, gamma=0.3, kernel=linear ...............................\n",
      "[CV] ................ C=100.0, gamma=0.3, kernel=linear, total=   4.2s\n",
      "[CV] C=100.0, gamma=0.3, kernel=rbf ..................................\n",
      "[CV] ................... C=100.0, gamma=0.3, kernel=rbf, total=   7.0s\n",
      "[CV] C=100.0, gamma=0.3, kernel=rbf ..................................\n",
      "[CV] ................... C=100.0, gamma=0.3, kernel=rbf, total=   7.0s\n",
      "[CV] C=100.0, gamma=0.3, kernel=rbf ..................................\n",
      "[CV] ................... C=100.0, gamma=0.3, kernel=rbf, total=   7.0s\n",
      "[CV] C=100.0, gamma=0.3, kernel=rbf ..................................\n",
      "[CV] ................... C=100.0, gamma=0.3, kernel=rbf, total=   7.0s\n",
      "[CV] C=100.0, gamma=0.3, kernel=rbf ..................................\n",
      "[CV] ................... C=100.0, gamma=0.3, kernel=rbf, total=   7.0s\n",
      "[CV] C=100.0, gamma=1.0, kernel=linear ...............................\n",
      "[CV] ................ C=100.0, gamma=1.0, kernel=linear, total=   4.3s\n",
      "[CV] C=100.0, gamma=1.0, kernel=linear ...............................\n",
      "[CV] ................ C=100.0, gamma=1.0, kernel=linear, total=   4.2s\n",
      "[CV] C=100.0, gamma=1.0, kernel=linear ...............................\n",
      "[CV] ................ C=100.0, gamma=1.0, kernel=linear, total=   4.4s\n",
      "[CV] C=100.0, gamma=1.0, kernel=linear ...............................\n",
      "[CV] ................ C=100.0, gamma=1.0, kernel=linear, total=   4.3s\n",
      "[CV] C=100.0, gamma=1.0, kernel=linear ...............................\n",
      "[CV] ................ C=100.0, gamma=1.0, kernel=linear, total=   4.3s\n",
      "[CV] C=100.0, gamma=1.0, kernel=rbf ..................................\n",
      "[CV] ................... C=100.0, gamma=1.0, kernel=rbf, total=   6.8s\n",
      "[CV] C=100.0, gamma=1.0, kernel=rbf ..................................\n",
      "[CV] ................... C=100.0, gamma=1.0, kernel=rbf, total=   6.9s\n",
      "[CV] C=100.0, gamma=1.0, kernel=rbf ..................................\n",
      "[CV] ................... C=100.0, gamma=1.0, kernel=rbf, total=   6.9s\n",
      "[CV] C=100.0, gamma=1.0, kernel=rbf ..................................\n",
      "[CV] ................... C=100.0, gamma=1.0, kernel=rbf, total=   6.9s\n",
      "[CV] C=100.0, gamma=1.0, kernel=rbf ..................................\n",
      "[CV] ................... C=100.0, gamma=1.0, kernel=rbf, total=   6.9s\n",
      "[CV] C=100.0, gamma=3.0, kernel=linear ...............................\n",
      "[CV] ................ C=100.0, gamma=3.0, kernel=linear, total=   4.3s\n",
      "[CV] C=100.0, gamma=3.0, kernel=linear ...............................\n",
      "[CV] ................ C=100.0, gamma=3.0, kernel=linear, total=   4.3s\n",
      "[CV] C=100.0, gamma=3.0, kernel=linear ...............................\n",
      "[CV] ................ C=100.0, gamma=3.0, kernel=linear, total=   4.3s\n",
      "[CV] C=100.0, gamma=3.0, kernel=linear ...............................\n",
      "[CV] ................ C=100.0, gamma=3.0, kernel=linear, total=   4.3s\n",
      "[CV] C=100.0, gamma=3.0, kernel=linear ...............................\n",
      "[CV] ................ C=100.0, gamma=3.0, kernel=linear, total=   4.3s\n",
      "[CV] C=100.0, gamma=3.0, kernel=rbf ..................................\n"
     ]
    },
    {
     "name": "stdout",
     "output_type": "stream",
     "text": [
      "[CV] ................... C=100.0, gamma=3.0, kernel=rbf, total=   7.6s\n",
      "[CV] C=100.0, gamma=3.0, kernel=rbf ..................................\n",
      "[CV] ................... C=100.0, gamma=3.0, kernel=rbf, total=   7.6s\n",
      "[CV] C=100.0, gamma=3.0, kernel=rbf ..................................\n",
      "[CV] ................... C=100.0, gamma=3.0, kernel=rbf, total=   7.6s\n",
      "[CV] C=100.0, gamma=3.0, kernel=rbf ..................................\n",
      "[CV] ................... C=100.0, gamma=3.0, kernel=rbf, total=   7.6s\n",
      "[CV] C=100.0, gamma=3.0, kernel=rbf ..................................\n",
      "[CV] ................... C=100.0, gamma=3.0, kernel=rbf, total=   7.7s\n",
      "[CV] C=300.0, gamma=0.01, kernel=linear ..............................\n",
      "[CV] ............... C=300.0, gamma=0.01, kernel=linear, total=   4.4s\n",
      "[CV] C=300.0, gamma=0.01, kernel=linear ..............................\n",
      "[CV] ............... C=300.0, gamma=0.01, kernel=linear, total=   4.4s\n",
      "[CV] C=300.0, gamma=0.01, kernel=linear ..............................\n",
      "[CV] ............... C=300.0, gamma=0.01, kernel=linear, total=   4.4s\n",
      "[CV] C=300.0, gamma=0.01, kernel=linear ..............................\n",
      "[CV] ............... C=300.0, gamma=0.01, kernel=linear, total=   4.4s\n",
      "[CV] C=300.0, gamma=0.01, kernel=linear ..............................\n",
      "[CV] ............... C=300.0, gamma=0.01, kernel=linear, total=   4.3s\n",
      "[CV] C=300.0, gamma=0.01, kernel=rbf .................................\n",
      "[CV] .................. C=300.0, gamma=0.01, kernel=rbf, total=   7.2s\n",
      "[CV] C=300.0, gamma=0.01, kernel=rbf .................................\n",
      "[CV] .................. C=300.0, gamma=0.01, kernel=rbf, total=   7.3s\n",
      "[CV] C=300.0, gamma=0.01, kernel=rbf .................................\n",
      "[CV] .................. C=300.0, gamma=0.01, kernel=rbf, total=   7.2s\n",
      "[CV] C=300.0, gamma=0.01, kernel=rbf .................................\n",
      "[CV] .................. C=300.0, gamma=0.01, kernel=rbf, total=   7.3s\n",
      "[CV] C=300.0, gamma=0.01, kernel=rbf .................................\n",
      "[CV] .................. C=300.0, gamma=0.01, kernel=rbf, total=   7.2s\n",
      "[CV] C=300.0, gamma=0.03, kernel=linear ..............................\n",
      "[CV] ............... C=300.0, gamma=0.03, kernel=linear, total=   4.4s\n",
      "[CV] C=300.0, gamma=0.03, kernel=linear ..............................\n",
      "[CV] ............... C=300.0, gamma=0.03, kernel=linear, total=   4.3s\n",
      "[CV] C=300.0, gamma=0.03, kernel=linear ..............................\n",
      "[CV] ............... C=300.0, gamma=0.03, kernel=linear, total=   4.4s\n",
      "[CV] C=300.0, gamma=0.03, kernel=linear ..............................\n",
      "[CV] ............... C=300.0, gamma=0.03, kernel=linear, total=   4.4s\n",
      "[CV] C=300.0, gamma=0.03, kernel=linear ..............................\n",
      "[CV] ............... C=300.0, gamma=0.03, kernel=linear, total=   4.3s\n",
      "[CV] C=300.0, gamma=0.03, kernel=rbf .................................\n",
      "[CV] .................. C=300.0, gamma=0.03, kernel=rbf, total=   7.1s\n",
      "[CV] C=300.0, gamma=0.03, kernel=rbf .................................\n",
      "[CV] .................. C=300.0, gamma=0.03, kernel=rbf, total=   7.0s\n",
      "[CV] C=300.0, gamma=0.03, kernel=rbf .................................\n",
      "[CV] .................. C=300.0, gamma=0.03, kernel=rbf, total=   7.0s\n",
      "[CV] C=300.0, gamma=0.03, kernel=rbf .................................\n",
      "[CV] .................. C=300.0, gamma=0.03, kernel=rbf, total=   7.1s\n",
      "[CV] C=300.0, gamma=0.03, kernel=rbf .................................\n",
      "[CV] .................. C=300.0, gamma=0.03, kernel=rbf, total=   7.0s\n",
      "[CV] C=300.0, gamma=0.1, kernel=linear ...............................\n",
      "[CV] ................ C=300.0, gamma=0.1, kernel=linear, total=   4.3s\n",
      "[CV] C=300.0, gamma=0.1, kernel=linear ...............................\n",
      "[CV] ................ C=300.0, gamma=0.1, kernel=linear, total=   4.3s\n",
      "[CV] C=300.0, gamma=0.1, kernel=linear ...............................\n",
      "[CV] ................ C=300.0, gamma=0.1, kernel=linear, total=   4.4s\n",
      "[CV] C=300.0, gamma=0.1, kernel=linear ...............................\n",
      "[CV] ................ C=300.0, gamma=0.1, kernel=linear, total=   4.3s\n",
      "[CV] C=300.0, gamma=0.1, kernel=linear ...............................\n",
      "[CV] ................ C=300.0, gamma=0.1, kernel=linear, total=   4.3s\n",
      "[CV] C=300.0, gamma=0.1, kernel=rbf ..................................\n",
      "[CV] ................... C=300.0, gamma=0.1, kernel=rbf, total=   7.0s\n",
      "[CV] C=300.0, gamma=0.1, kernel=rbf ..................................\n",
      "[CV] ................... C=300.0, gamma=0.1, kernel=rbf, total=   6.9s\n",
      "[CV] C=300.0, gamma=0.1, kernel=rbf ..................................\n",
      "[CV] ................... C=300.0, gamma=0.1, kernel=rbf, total=   7.0s\n",
      "[CV] C=300.0, gamma=0.1, kernel=rbf ..................................\n",
      "[CV] ................... C=300.0, gamma=0.1, kernel=rbf, total=   6.9s\n",
      "[CV] C=300.0, gamma=0.1, kernel=rbf ..................................\n",
      "[CV] ................... C=300.0, gamma=0.1, kernel=rbf, total=   6.9s\n",
      "[CV] C=300.0, gamma=0.3, kernel=linear ...............................\n",
      "[CV] ................ C=300.0, gamma=0.3, kernel=linear, total=   4.4s\n",
      "[CV] C=300.0, gamma=0.3, kernel=linear ...............................\n",
      "[CV] ................ C=300.0, gamma=0.3, kernel=linear, total=   4.3s\n",
      "[CV] C=300.0, gamma=0.3, kernel=linear ...............................\n",
      "[CV] ................ C=300.0, gamma=0.3, kernel=linear, total=   4.4s\n",
      "[CV] C=300.0, gamma=0.3, kernel=linear ...............................\n",
      "[CV] ................ C=300.0, gamma=0.3, kernel=linear, total=   4.3s\n",
      "[CV] C=300.0, gamma=0.3, kernel=linear ...............................\n",
      "[CV] ................ C=300.0, gamma=0.3, kernel=linear, total=   4.3s\n",
      "[CV] C=300.0, gamma=0.3, kernel=rbf ..................................\n",
      "[CV] ................... C=300.0, gamma=0.3, kernel=rbf, total=   6.9s\n",
      "[CV] C=300.0, gamma=0.3, kernel=rbf ..................................\n",
      "[CV] ................... C=300.0, gamma=0.3, kernel=rbf, total=   6.9s\n",
      "[CV] C=300.0, gamma=0.3, kernel=rbf ..................................\n",
      "[CV] ................... C=300.0, gamma=0.3, kernel=rbf, total=   7.0s\n",
      "[CV] C=300.0, gamma=0.3, kernel=rbf ..................................\n",
      "[CV] ................... C=300.0, gamma=0.3, kernel=rbf, total=   6.9s\n",
      "[CV] C=300.0, gamma=0.3, kernel=rbf ..................................\n",
      "[CV] ................... C=300.0, gamma=0.3, kernel=rbf, total=   6.9s\n",
      "[CV] C=300.0, gamma=1.0, kernel=linear ...............................\n",
      "[CV] ................ C=300.0, gamma=1.0, kernel=linear, total=   4.3s\n",
      "[CV] C=300.0, gamma=1.0, kernel=linear ...............................\n",
      "[CV] ................ C=300.0, gamma=1.0, kernel=linear, total=   4.3s\n",
      "[CV] C=300.0, gamma=1.0, kernel=linear ...............................\n",
      "[CV] ................ C=300.0, gamma=1.0, kernel=linear, total=   4.4s\n",
      "[CV] C=300.0, gamma=1.0, kernel=linear ...............................\n",
      "[CV] ................ C=300.0, gamma=1.0, kernel=linear, total=   4.4s\n",
      "[CV] C=300.0, gamma=1.0, kernel=linear ...............................\n",
      "[CV] ................ C=300.0, gamma=1.0, kernel=linear, total=   4.3s\n",
      "[CV] C=300.0, gamma=1.0, kernel=rbf ..................................\n",
      "[CV] ................... C=300.0, gamma=1.0, kernel=rbf, total=   6.9s\n",
      "[CV] C=300.0, gamma=1.0, kernel=rbf ..................................\n",
      "[CV] ................... C=300.0, gamma=1.0, kernel=rbf, total=   6.9s\n",
      "[CV] C=300.0, gamma=1.0, kernel=rbf ..................................\n",
      "[CV] ................... C=300.0, gamma=1.0, kernel=rbf, total=   6.8s\n",
      "[CV] C=300.0, gamma=1.0, kernel=rbf ..................................\n",
      "[CV] ................... C=300.0, gamma=1.0, kernel=rbf, total=   6.8s\n",
      "[CV] C=300.0, gamma=1.0, kernel=rbf ..................................\n",
      "[CV] ................... C=300.0, gamma=1.0, kernel=rbf, total=   6.9s\n",
      "[CV] C=300.0, gamma=3.0, kernel=linear ...............................\n",
      "[CV] ................ C=300.0, gamma=3.0, kernel=linear, total=   4.3s\n",
      "[CV] C=300.0, gamma=3.0, kernel=linear ...............................\n",
      "[CV] ................ C=300.0, gamma=3.0, kernel=linear, total=   4.3s\n",
      "[CV] C=300.0, gamma=3.0, kernel=linear ...............................\n",
      "[CV] ................ C=300.0, gamma=3.0, kernel=linear, total=   4.3s\n",
      "[CV] C=300.0, gamma=3.0, kernel=linear ...............................\n"
     ]
    },
    {
     "name": "stdout",
     "output_type": "stream",
     "text": [
      "[CV] ................ C=300.0, gamma=3.0, kernel=linear, total=   4.4s\n",
      "[CV] C=300.0, gamma=3.0, kernel=linear ...............................\n",
      "[CV] ................ C=300.0, gamma=3.0, kernel=linear, total=   4.3s\n",
      "[CV] C=300.0, gamma=3.0, kernel=rbf ..................................\n",
      "[CV] ................... C=300.0, gamma=3.0, kernel=rbf, total=   7.6s\n",
      "[CV] C=300.0, gamma=3.0, kernel=rbf ..................................\n",
      "[CV] ................... C=300.0, gamma=3.0, kernel=rbf, total=   7.6s\n",
      "[CV] C=300.0, gamma=3.0, kernel=rbf ..................................\n",
      "[CV] ................... C=300.0, gamma=3.0, kernel=rbf, total=   7.6s\n",
      "[CV] C=300.0, gamma=3.0, kernel=rbf ..................................\n",
      "[CV] ................... C=300.0, gamma=3.0, kernel=rbf, total=   7.7s\n",
      "[CV] C=300.0, gamma=3.0, kernel=rbf ..................................\n",
      "[CV] ................... C=300.0, gamma=3.0, kernel=rbf, total=   7.6s\n",
      "[CV] C=1000.0, gamma=0.01, kernel=linear .............................\n",
      "[CV] .............. C=1000.0, gamma=0.01, kernel=linear, total=   4.4s\n",
      "[CV] C=1000.0, gamma=0.01, kernel=linear .............................\n",
      "[CV] .............. C=1000.0, gamma=0.01, kernel=linear, total=   4.5s\n",
      "[CV] C=1000.0, gamma=0.01, kernel=linear .............................\n",
      "[CV] .............. C=1000.0, gamma=0.01, kernel=linear, total=   4.5s\n",
      "[CV] C=1000.0, gamma=0.01, kernel=linear .............................\n",
      "[CV] .............. C=1000.0, gamma=0.01, kernel=linear, total=   4.6s\n",
      "[CV] C=1000.0, gamma=0.01, kernel=linear .............................\n",
      "[CV] .............. C=1000.0, gamma=0.01, kernel=linear, total=   4.4s\n",
      "[CV] C=1000.0, gamma=0.01, kernel=rbf ................................\n",
      "[CV] ................. C=1000.0, gamma=0.01, kernel=rbf, total=   7.0s\n",
      "[CV] C=1000.0, gamma=0.01, kernel=rbf ................................\n",
      "[CV] ................. C=1000.0, gamma=0.01, kernel=rbf, total=   7.0s\n",
      "[CV] C=1000.0, gamma=0.01, kernel=rbf ................................\n",
      "[CV] ................. C=1000.0, gamma=0.01, kernel=rbf, total=   7.0s\n",
      "[CV] C=1000.0, gamma=0.01, kernel=rbf ................................\n",
      "[CV] ................. C=1000.0, gamma=0.01, kernel=rbf, total=   7.0s\n",
      "[CV] C=1000.0, gamma=0.01, kernel=rbf ................................\n",
      "[CV] ................. C=1000.0, gamma=0.01, kernel=rbf, total=   7.0s\n",
      "[CV] C=1000.0, gamma=0.03, kernel=linear .............................\n",
      "[CV] .............. C=1000.0, gamma=0.03, kernel=linear, total=   4.5s\n",
      "[CV] C=1000.0, gamma=0.03, kernel=linear .............................\n",
      "[CV] .............. C=1000.0, gamma=0.03, kernel=linear, total=   4.5s\n",
      "[CV] C=1000.0, gamma=0.03, kernel=linear .............................\n",
      "[CV] .............. C=1000.0, gamma=0.03, kernel=linear, total=   4.5s\n",
      "[CV] C=1000.0, gamma=0.03, kernel=linear .............................\n",
      "[CV] .............. C=1000.0, gamma=0.03, kernel=linear, total=   4.6s\n",
      "[CV] C=1000.0, gamma=0.03, kernel=linear .............................\n",
      "[CV] .............. C=1000.0, gamma=0.03, kernel=linear, total=   4.4s\n",
      "[CV] C=1000.0, gamma=0.03, kernel=rbf ................................\n",
      "[CV] ................. C=1000.0, gamma=0.03, kernel=rbf, total=   6.9s\n",
      "[CV] C=1000.0, gamma=0.03, kernel=rbf ................................\n",
      "[CV] ................. C=1000.0, gamma=0.03, kernel=rbf, total=   6.9s\n",
      "[CV] C=1000.0, gamma=0.03, kernel=rbf ................................\n",
      "[CV] ................. C=1000.0, gamma=0.03, kernel=rbf, total=   6.9s\n",
      "[CV] C=1000.0, gamma=0.03, kernel=rbf ................................\n",
      "[CV] ................. C=1000.0, gamma=0.03, kernel=rbf, total=   6.9s\n",
      "[CV] C=1000.0, gamma=0.03, kernel=rbf ................................\n",
      "[CV] ................. C=1000.0, gamma=0.03, kernel=rbf, total=   6.9s\n",
      "[CV] C=1000.0, gamma=0.1, kernel=linear ..............................\n",
      "[CV] ............... C=1000.0, gamma=0.1, kernel=linear, total=   4.5s\n",
      "[CV] C=1000.0, gamma=0.1, kernel=linear ..............................\n",
      "[CV] ............... C=1000.0, gamma=0.1, kernel=linear, total=   4.5s\n",
      "[CV] C=1000.0, gamma=0.1, kernel=linear ..............................\n",
      "[CV] ............... C=1000.0, gamma=0.1, kernel=linear, total=   4.5s\n",
      "[CV] C=1000.0, gamma=0.1, kernel=linear ..............................\n",
      "[CV] ............... C=1000.0, gamma=0.1, kernel=linear, total=   4.5s\n",
      "[CV] C=1000.0, gamma=0.1, kernel=linear ..............................\n",
      "[CV] ............... C=1000.0, gamma=0.1, kernel=linear, total=   4.4s\n",
      "[CV] C=1000.0, gamma=0.1, kernel=rbf .................................\n",
      "[CV] .................. C=1000.0, gamma=0.1, kernel=rbf, total=   6.9s\n",
      "[CV] C=1000.0, gamma=0.1, kernel=rbf .................................\n",
      "[CV] .................. C=1000.0, gamma=0.1, kernel=rbf, total=   6.8s\n",
      "[CV] C=1000.0, gamma=0.1, kernel=rbf .................................\n",
      "[CV] .................. C=1000.0, gamma=0.1, kernel=rbf, total=   6.9s\n",
      "[CV] C=1000.0, gamma=0.1, kernel=rbf .................................\n",
      "[CV] .................. C=1000.0, gamma=0.1, kernel=rbf, total=   6.8s\n",
      "[CV] C=1000.0, gamma=0.1, kernel=rbf .................................\n",
      "[CV] .................. C=1000.0, gamma=0.1, kernel=rbf, total=   6.8s\n",
      "[CV] C=1000.0, gamma=0.3, kernel=linear ..............................\n",
      "[CV] ............... C=1000.0, gamma=0.3, kernel=linear, total=   4.5s\n",
      "[CV] C=1000.0, gamma=0.3, kernel=linear ..............................\n",
      "[CV] ............... C=1000.0, gamma=0.3, kernel=linear, total=   4.5s\n",
      "[CV] C=1000.0, gamma=0.3, kernel=linear ..............................\n",
      "[CV] ............... C=1000.0, gamma=0.3, kernel=linear, total=   4.5s\n",
      "[CV] C=1000.0, gamma=0.3, kernel=linear ..............................\n",
      "[CV] ............... C=1000.0, gamma=0.3, kernel=linear, total=   4.5s\n",
      "[CV] C=1000.0, gamma=0.3, kernel=linear ..............................\n",
      "[CV] ............... C=1000.0, gamma=0.3, kernel=linear, total=   4.5s\n",
      "[CV] C=1000.0, gamma=0.3, kernel=rbf .................................\n",
      "[CV] .................. C=1000.0, gamma=0.3, kernel=rbf, total=   6.8s\n",
      "[CV] C=1000.0, gamma=0.3, kernel=rbf .................................\n",
      "[CV] .................. C=1000.0, gamma=0.3, kernel=rbf, total=   6.8s\n",
      "[CV] C=1000.0, gamma=0.3, kernel=rbf .................................\n",
      "[CV] .................. C=1000.0, gamma=0.3, kernel=rbf, total=   6.8s\n",
      "[CV] C=1000.0, gamma=0.3, kernel=rbf .................................\n",
      "[CV] .................. C=1000.0, gamma=0.3, kernel=rbf, total=   6.8s\n",
      "[CV] C=1000.0, gamma=0.3, kernel=rbf .................................\n",
      "[CV] .................. C=1000.0, gamma=0.3, kernel=rbf, total=   6.8s\n",
      "[CV] C=1000.0, gamma=1.0, kernel=linear ..............................\n",
      "[CV] ............... C=1000.0, gamma=1.0, kernel=linear, total=   4.4s\n",
      "[CV] C=1000.0, gamma=1.0, kernel=linear ..............................\n",
      "[CV] ............... C=1000.0, gamma=1.0, kernel=linear, total=   4.5s\n",
      "[CV] C=1000.0, gamma=1.0, kernel=linear ..............................\n",
      "[CV] ............... C=1000.0, gamma=1.0, kernel=linear, total=   4.5s\n",
      "[CV] C=1000.0, gamma=1.0, kernel=linear ..............................\n",
      "[CV] ............... C=1000.0, gamma=1.0, kernel=linear, total=   4.5s\n",
      "[CV] C=1000.0, gamma=1.0, kernel=linear ..............................\n",
      "[CV] ............... C=1000.0, gamma=1.0, kernel=linear, total=   4.5s\n",
      "[CV] C=1000.0, gamma=1.0, kernel=rbf .................................\n",
      "[CV] .................. C=1000.0, gamma=1.0, kernel=rbf, total=   6.8s\n",
      "[CV] C=1000.0, gamma=1.0, kernel=rbf .................................\n",
      "[CV] .................. C=1000.0, gamma=1.0, kernel=rbf, total=   6.9s\n",
      "[CV] C=1000.0, gamma=1.0, kernel=rbf .................................\n",
      "[CV] .................. C=1000.0, gamma=1.0, kernel=rbf, total=   6.8s\n",
      "[CV] C=1000.0, gamma=1.0, kernel=rbf .................................\n",
      "[CV] .................. C=1000.0, gamma=1.0, kernel=rbf, total=   6.8s\n",
      "[CV] C=1000.0, gamma=1.0, kernel=rbf .................................\n",
      "[CV] .................. C=1000.0, gamma=1.0, kernel=rbf, total=   6.9s\n",
      "[CV] C=1000.0, gamma=3.0, kernel=linear ..............................\n",
      "[CV] ............... C=1000.0, gamma=3.0, kernel=linear, total=   4.4s\n",
      "[CV] C=1000.0, gamma=3.0, kernel=linear ..............................\n"
     ]
    },
    {
     "name": "stdout",
     "output_type": "stream",
     "text": [
      "[CV] ............... C=1000.0, gamma=3.0, kernel=linear, total=   4.6s\n",
      "[CV] C=1000.0, gamma=3.0, kernel=linear ..............................\n",
      "[CV] ............... C=1000.0, gamma=3.0, kernel=linear, total=   4.5s\n",
      "[CV] C=1000.0, gamma=3.0, kernel=linear ..............................\n",
      "[CV] ............... C=1000.0, gamma=3.0, kernel=linear, total=   4.6s\n",
      "[CV] C=1000.0, gamma=3.0, kernel=linear ..............................\n",
      "[CV] ............... C=1000.0, gamma=3.0, kernel=linear, total=   4.5s\n",
      "[CV] C=1000.0, gamma=3.0, kernel=rbf .................................\n",
      "[CV] .................. C=1000.0, gamma=3.0, kernel=rbf, total=   7.6s\n",
      "[CV] C=1000.0, gamma=3.0, kernel=rbf .................................\n",
      "[CV] .................. C=1000.0, gamma=3.0, kernel=rbf, total=   7.7s\n",
      "[CV] C=1000.0, gamma=3.0, kernel=rbf .................................\n",
      "[CV] .................. C=1000.0, gamma=3.0, kernel=rbf, total=   7.6s\n",
      "[CV] C=1000.0, gamma=3.0, kernel=rbf .................................\n",
      "[CV] .................. C=1000.0, gamma=3.0, kernel=rbf, total=   7.7s\n",
      "[CV] C=1000.0, gamma=3.0, kernel=rbf .................................\n",
      "[CV] .................. C=1000.0, gamma=3.0, kernel=rbf, total=   7.7s\n",
      "[CV] C=3000.0, gamma=0.01, kernel=linear .............................\n",
      "[CV] .............. C=3000.0, gamma=0.01, kernel=linear, total=   5.3s\n",
      "[CV] C=3000.0, gamma=0.01, kernel=linear .............................\n",
      "[CV] .............. C=3000.0, gamma=0.01, kernel=linear, total=   5.0s\n",
      "[CV] C=3000.0, gamma=0.01, kernel=linear .............................\n",
      "[CV] .............. C=3000.0, gamma=0.01, kernel=linear, total=   4.9s\n",
      "[CV] C=3000.0, gamma=0.01, kernel=linear .............................\n",
      "[CV] .............. C=3000.0, gamma=0.01, kernel=linear, total=   5.1s\n",
      "[CV] C=3000.0, gamma=0.01, kernel=linear .............................\n",
      "[CV] .............. C=3000.0, gamma=0.01, kernel=linear, total=   4.9s\n",
      "[CV] C=3000.0, gamma=0.01, kernel=rbf ................................\n",
      "[CV] ................. C=3000.0, gamma=0.01, kernel=rbf, total=   7.1s\n",
      "[CV] C=3000.0, gamma=0.01, kernel=rbf ................................\n",
      "[CV] ................. C=3000.0, gamma=0.01, kernel=rbf, total=   6.9s\n",
      "[CV] C=3000.0, gamma=0.01, kernel=rbf ................................\n",
      "[CV] ................. C=3000.0, gamma=0.01, kernel=rbf, total=   7.3s\n",
      "[CV] C=3000.0, gamma=0.01, kernel=rbf ................................\n",
      "[CV] ................. C=3000.0, gamma=0.01, kernel=rbf, total=   8.1s\n",
      "[CV] C=3000.0, gamma=0.01, kernel=rbf ................................\n",
      "[CV] ................. C=3000.0, gamma=0.01, kernel=rbf, total=   7.7s\n",
      "[CV] C=3000.0, gamma=0.03, kernel=linear .............................\n",
      "[CV] .............. C=3000.0, gamma=0.03, kernel=linear, total=   5.1s\n",
      "[CV] C=3000.0, gamma=0.03, kernel=linear .............................\n",
      "[CV] .............. C=3000.0, gamma=0.03, kernel=linear, total=   4.8s\n",
      "[CV] C=3000.0, gamma=0.03, kernel=linear .............................\n",
      "[CV] .............. C=3000.0, gamma=0.03, kernel=linear, total=   5.0s\n",
      "[CV] C=3000.0, gamma=0.03, kernel=linear .............................\n",
      "[CV] .............. C=3000.0, gamma=0.03, kernel=linear, total=   5.1s\n",
      "[CV] C=3000.0, gamma=0.03, kernel=linear .............................\n",
      "[CV] .............. C=3000.0, gamma=0.03, kernel=linear, total=   5.2s\n",
      "[CV] C=3000.0, gamma=0.03, kernel=rbf ................................\n",
      "[CV] ................. C=3000.0, gamma=0.03, kernel=rbf, total=   8.0s\n",
      "[CV] C=3000.0, gamma=0.03, kernel=rbf ................................\n",
      "[CV] ................. C=3000.0, gamma=0.03, kernel=rbf, total=   7.8s\n",
      "[CV] C=3000.0, gamma=0.03, kernel=rbf ................................\n",
      "[CV] ................. C=3000.0, gamma=0.03, kernel=rbf, total=   7.3s\n",
      "[CV] C=3000.0, gamma=0.03, kernel=rbf ................................\n",
      "[CV] ................. C=3000.0, gamma=0.03, kernel=rbf, total=   7.1s\n",
      "[CV] C=3000.0, gamma=0.03, kernel=rbf ................................\n",
      "[CV] ................. C=3000.0, gamma=0.03, kernel=rbf, total=   7.5s\n",
      "[CV] C=3000.0, gamma=0.1, kernel=linear ..............................\n",
      "[CV] ............... C=3000.0, gamma=0.1, kernel=linear, total=   5.1s\n",
      "[CV] C=3000.0, gamma=0.1, kernel=linear ..............................\n",
      "[CV] ............... C=3000.0, gamma=0.1, kernel=linear, total=   4.7s\n",
      "[CV] C=3000.0, gamma=0.1, kernel=linear ..............................\n",
      "[CV] ............... C=3000.0, gamma=0.1, kernel=linear, total=   4.9s\n",
      "[CV] C=3000.0, gamma=0.1, kernel=linear ..............................\n",
      "[CV] ............... C=3000.0, gamma=0.1, kernel=linear, total=   4.9s\n",
      "[CV] C=3000.0, gamma=0.1, kernel=linear ..............................\n",
      "[CV] ............... C=3000.0, gamma=0.1, kernel=linear, total=   4.7s\n",
      "[CV] C=3000.0, gamma=0.1, kernel=rbf .................................\n",
      "[CV] .................. C=3000.0, gamma=0.1, kernel=rbf, total=   6.9s\n",
      "[CV] C=3000.0, gamma=0.1, kernel=rbf .................................\n",
      "[CV] .................. C=3000.0, gamma=0.1, kernel=rbf, total=   7.2s\n",
      "[CV] C=3000.0, gamma=0.1, kernel=rbf .................................\n",
      "[CV] .................. C=3000.0, gamma=0.1, kernel=rbf, total=   7.6s\n",
      "[CV] C=3000.0, gamma=0.1, kernel=rbf .................................\n",
      "[CV] .................. C=3000.0, gamma=0.1, kernel=rbf, total=   7.2s\n",
      "[CV] C=3000.0, gamma=0.1, kernel=rbf .................................\n",
      "[CV] .................. C=3000.0, gamma=0.1, kernel=rbf, total=   7.0s\n",
      "[CV] C=3000.0, gamma=0.3, kernel=linear ..............................\n",
      "[CV] ............... C=3000.0, gamma=0.3, kernel=linear, total=   4.9s\n",
      "[CV] C=3000.0, gamma=0.3, kernel=linear ..............................\n",
      "[CV] ............... C=3000.0, gamma=0.3, kernel=linear, total=   4.8s\n",
      "[CV] C=3000.0, gamma=0.3, kernel=linear ..............................\n",
      "[CV] ............... C=3000.0, gamma=0.3, kernel=linear, total=   4.9s\n",
      "[CV] C=3000.0, gamma=0.3, kernel=linear ..............................\n",
      "[CV] ............... C=3000.0, gamma=0.3, kernel=linear, total=   4.9s\n",
      "[CV] C=3000.0, gamma=0.3, kernel=linear ..............................\n",
      "[CV] ............... C=3000.0, gamma=0.3, kernel=linear, total=   4.7s\n",
      "[CV] C=3000.0, gamma=0.3, kernel=rbf .................................\n",
      "[CV] .................. C=3000.0, gamma=0.3, kernel=rbf, total=   6.8s\n",
      "[CV] C=3000.0, gamma=0.3, kernel=rbf .................................\n",
      "[CV] .................. C=3000.0, gamma=0.3, kernel=rbf, total=   6.8s\n",
      "[CV] C=3000.0, gamma=0.3, kernel=rbf .................................\n",
      "[CV] .................. C=3000.0, gamma=0.3, kernel=rbf, total=   6.8s\n",
      "[CV] C=3000.0, gamma=0.3, kernel=rbf .................................\n",
      "[CV] .................. C=3000.0, gamma=0.3, kernel=rbf, total=   6.8s\n",
      "[CV] C=3000.0, gamma=0.3, kernel=rbf .................................\n",
      "[CV] .................. C=3000.0, gamma=0.3, kernel=rbf, total=   6.8s\n",
      "[CV] C=3000.0, gamma=1.0, kernel=linear ..............................\n",
      "[CV] ............... C=3000.0, gamma=1.0, kernel=linear, total=   4.9s\n",
      "[CV] C=3000.0, gamma=1.0, kernel=linear ..............................\n",
      "[CV] ............... C=3000.0, gamma=1.0, kernel=linear, total=   4.8s\n",
      "[CV] C=3000.0, gamma=1.0, kernel=linear ..............................\n",
      "[CV] ............... C=3000.0, gamma=1.0, kernel=linear, total=   4.9s\n",
      "[CV] C=3000.0, gamma=1.0, kernel=linear ..............................\n",
      "[CV] ............... C=3000.0, gamma=1.0, kernel=linear, total=   4.9s\n",
      "[CV] C=3000.0, gamma=1.0, kernel=linear ..............................\n",
      "[CV] ............... C=3000.0, gamma=1.0, kernel=linear, total=   4.8s\n",
      "[CV] C=3000.0, gamma=1.0, kernel=rbf .................................\n",
      "[CV] .................. C=3000.0, gamma=1.0, kernel=rbf, total=   6.9s\n",
      "[CV] C=3000.0, gamma=1.0, kernel=rbf .................................\n",
      "[CV] .................. C=3000.0, gamma=1.0, kernel=rbf, total=   6.9s\n",
      "[CV] C=3000.0, gamma=1.0, kernel=rbf .................................\n",
      "[CV] .................. C=3000.0, gamma=1.0, kernel=rbf, total=   6.9s\n",
      "[CV] C=3000.0, gamma=1.0, kernel=rbf .................................\n",
      "[CV] .................. C=3000.0, gamma=1.0, kernel=rbf, total=   6.8s\n",
      "[CV] C=3000.0, gamma=1.0, kernel=rbf .................................\n"
     ]
    },
    {
     "name": "stdout",
     "output_type": "stream",
     "text": [
      "[CV] .................. C=3000.0, gamma=1.0, kernel=rbf, total=   6.9s\n",
      "[CV] C=3000.0, gamma=3.0, kernel=linear ..............................\n",
      "[CV] ............... C=3000.0, gamma=3.0, kernel=linear, total=   4.8s\n",
      "[CV] C=3000.0, gamma=3.0, kernel=linear ..............................\n",
      "[CV] ............... C=3000.0, gamma=3.0, kernel=linear, total=   4.8s\n",
      "[CV] C=3000.0, gamma=3.0, kernel=linear ..............................\n",
      "[CV] ............... C=3000.0, gamma=3.0, kernel=linear, total=   5.0s\n",
      "[CV] C=3000.0, gamma=3.0, kernel=linear ..............................\n",
      "[CV] ............... C=3000.0, gamma=3.0, kernel=linear, total=   4.9s\n",
      "[CV] C=3000.0, gamma=3.0, kernel=linear ..............................\n",
      "[CV] ............... C=3000.0, gamma=3.0, kernel=linear, total=   4.8s\n",
      "[CV] C=3000.0, gamma=3.0, kernel=rbf .................................\n",
      "[CV] .................. C=3000.0, gamma=3.0, kernel=rbf, total=   7.6s\n",
      "[CV] C=3000.0, gamma=3.0, kernel=rbf .................................\n",
      "[CV] .................. C=3000.0, gamma=3.0, kernel=rbf, total=   7.8s\n",
      "[CV] C=3000.0, gamma=3.0, kernel=rbf .................................\n",
      "[CV] .................. C=3000.0, gamma=3.0, kernel=rbf, total=   7.7s\n",
      "[CV] C=3000.0, gamma=3.0, kernel=rbf .................................\n",
      "[CV] .................. C=3000.0, gamma=3.0, kernel=rbf, total=   7.7s\n",
      "[CV] C=3000.0, gamma=3.0, kernel=rbf .................................\n",
      "[CV] .................. C=3000.0, gamma=3.0, kernel=rbf, total=   7.7s\n"
     ]
    },
    {
     "name": "stderr",
     "output_type": "stream",
     "text": [
      "[Parallel(n_jobs=1)]: Done 360 out of 360 | elapsed: 51.4min finished\n"
     ]
    },
    {
     "data": {
      "text/plain": [
       "GridSearchCV(cv=5, error_score='raise-deprecating',\n",
       "             estimator=SVR(C=1.0, cache_size=200, coef0=0.0, degree=3,\n",
       "                           epsilon=0.1, gamma='auto_deprecated', kernel='rbf',\n",
       "                           max_iter=-1, shrinking=True, tol=0.001,\n",
       "                           verbose=False),\n",
       "             iid='warn', n_jobs=None,\n",
       "             param_grid=[{'C': [10.0, 30.0, 100.0, 300.0, 1000.0, 3000.0],\n",
       "                          'gamma': [0.01, 0.03, 0.1, 0.3, 1.0, 3.0],\n",
       "                          'kernel': ['linear', 'rbf']}],\n",
       "             pre_dispatch='2*n_jobs', refit=True, return_train_score=True,\n",
       "             scoring='neg_mean_squared_error', verbose=2)"
      ]
     },
     "execution_count": 60,
     "metadata": {},
     "output_type": "execute_result"
    }
   ],
   "source": [
    "# Our rmse was terrible, worse than either linear regression or random forests\n",
    "# Lets try to fine tune our hyper parameters\n",
    "\n",
    "param_grid = [\n",
    "    {'kernel': ['linear', 'rbf'], 'C': [10., 30., 100., 300., 1000., 3000.],\n",
    "    'gamma': [0.01, 0.03, 0.1, 0.3, 1.0, 3.0]}\n",
    "]\n",
    "\n",
    "SVR_model = SVR()\n",
    "\n",
    "grid_search = GridSearchCV(SVR_model, param_grid, cv=5,\n",
    "                          scoring='neg_mean_squared_error',\n",
    "                          return_train_score=True, \n",
    "                          verbose=2, \n",
    "                          n_jobs=-1)\n",
    "\n",
    "grid_search.fit(housing_prepared, housing_labels)"
   ]
  },
  {
   "cell_type": "code",
   "execution_count": 16,
   "metadata": {},
   "outputs": [
    {
     "ename": "NameError",
     "evalue": "name 'grid_search' is not defined",
     "output_type": "error",
     "traceback": [
      "\u001b[1;31m---------------------------------------------------------------------------\u001b[0m",
      "\u001b[1;31mNameError\u001b[0m                                 Traceback (most recent call last)",
      "\u001b[1;32m<ipython-input-16-b1068600e498>\u001b[0m in \u001b[0;36m<module>\u001b[1;34m\u001b[0m\n\u001b[1;32m----> 1\u001b[1;33m \u001b[0mgrid_search\u001b[0m\u001b[1;33m.\u001b[0m\u001b[0mbest_params_\u001b[0m\u001b[1;33m\u001b[0m\u001b[1;33m\u001b[0m\u001b[0m\n\u001b[0m",
      "\u001b[1;31mNameError\u001b[0m: name 'grid_search' is not defined"
     ]
    }
   ],
   "source": [
    "grid_search.best_params_"
   ]
  },
  {
   "cell_type": "code",
   "execution_count": null,
   "metadata": {},
   "outputs": [],
   "source": [
    "grid_search.best_estimator_"
   ]
  },
  {
   "cell_type": "code",
   "execution_count": 66,
   "metadata": {},
   "outputs": [
    {
     "name": "stdout",
     "output_type": "stream",
     "text": [
      "4237489445.3787646\n",
      "65096.0017618499\n"
     ]
    }
   ],
   "source": [
    "neg_mse = grid_search.best_score_\n",
    "mse = -neg_mse\n",
    "rmse = np.sqrt(mse)\n",
    "print(mse)\n",
    "print(rmse)"
   ]
  },
  {
   "cell_type": "code",
   "execution_count": 70,
   "metadata": {},
   "outputs": [
    {
     "data": {
      "text/plain": [
       "['models/SVR_model.pkl']"
      ]
     },
     "execution_count": 70,
     "metadata": {},
     "output_type": "execute_result"
    }
   ],
   "source": [
    "# Still not great, but much better than before\n",
    "\n",
    "SVR_model = grid_search.best_estimator_\n",
    "joblib.dump(SVR_model, 'models/SVR_model.pkl')"
   ]
  },
  {
   "cell_type": "markdown",
   "metadata": {},
   "source": [
    "**Exercise 2**\n",
    "\n",
    "Replace Grid Search with a Random Search"
   ]
  },
  {
   "cell_type": "code",
   "execution_count": 43,
   "metadata": {},
   "outputs": [
    {
     "name": "stdout",
     "output_type": "stream",
     "text": [
      "Fitting 5 folds for each of 5 candidates, totalling 25 fits\n"
     ]
    },
    {
     "name": "stderr",
     "output_type": "stream",
     "text": [
      "[Parallel(n_jobs=-1)]: Using backend LokyBackend with 8 concurrent workers.\n",
      "[Parallel(n_jobs=-1)]: Done  23 out of  25 | elapsed:  2.6min remaining:   13.7s\n",
      "[Parallel(n_jobs=-1)]: Done  25 out of  25 | elapsed:  2.7min finished\n"
     ]
    },
    {
     "data": {
      "text/plain": [
       "RandomizedSearchCV(cv=5, error_score='raise-deprecating',\n",
       "                   estimator=SVR(C=1.0, cache_size=200, coef0=0.0, degree=3,\n",
       "                                 epsilon=0.1, gamma='auto_deprecated',\n",
       "                                 kernel='rbf', max_iter=-1, shrinking=True,\n",
       "                                 tol=0.001, verbose=False),\n",
       "                   iid='warn', n_iter=5, n_jobs=-1,\n",
       "                   param_distributions={'C': <scipy.stats._distn_infrastructure.rv_frozen object at 0x00000176D38577C8>,\n",
       "                                        'gamma': <scipy.stats._distn_infrastructure.rv_frozen object at 0x00000176D3857A48>,\n",
       "                                        'kernel': ['linear', 'rbf']},\n",
       "                   pre_dispatch='2*n_jobs', random_state=None, refit=True,\n",
       "                   return_train_score=False, scoring='neg_mean_squared_error',\n",
       "                   verbose=2)"
      ]
     },
     "execution_count": 43,
     "metadata": {},
     "output_type": "execute_result"
    }
   ],
   "source": [
    "param_distributions = {\n",
    "    'kernel': ['linear', 'rbf'], \n",
    "    'C': reciprocal(20,200000),\n",
    "    'gamma': expon(scale=1.0)\n",
    "}\n",
    "\n",
    "\n",
    "SVR_model = SVR()\n",
    "\n",
    "rnd_search = RandomizedSearchCV(SVR_model, \n",
    "                           param_distributions=param_distributions, \n",
    "                           n_iter=50,\n",
    "                           cv=5,\n",
    "                           scoring='neg_mean_squared_error',\n",
    "                           verbose=2, \n",
    "                           n_jobs=-1, \n",
    "                           )\n",
    "\n",
    "rnd_search.fit(housing_prepared, housing_labels)"
   ]
  },
  {
   "cell_type": "code",
   "execution_count": 45,
   "metadata": {},
   "outputs": [
    {
     "name": "stdout",
     "output_type": "stream",
     "text": [
      "3776176391.944553\n",
      "61450.601233385445\n"
     ]
    }
   ],
   "source": [
    "neg_mse = rnd_search.best_score_\n",
    "mse = -neg_mse\n",
    "rmse = np.sqrt(mse)\n",
    "print(mse)\n",
    "print(rmse) # Even better than the grid search!"
   ]
  },
  {
   "cell_type": "code",
   "execution_count": null,
   "metadata": {},
   "outputs": [],
   "source": [
    "SVR_model = rnd_search.best_estimator_\n",
    "joblib.dump(SVR_model, 'models/SVR_tuned_model.pkl')"
   ]
  },
  {
   "cell_type": "markdown",
   "metadata": {},
   "source": [
    "**Exercise 3**\n",
    "\n",
    "Add transformer to preperation pipeline which chooses only most important attributes"
   ]
  },
  {
   "cell_type": "code",
   "execution_count": 24,
   "metadata": {},
   "outputs": [
    {
     "name": "stderr",
     "output_type": "stream",
     "text": [
      "c:\\users\\tsb\\appdata\\local\\programs\\python\\python37\\lib\\site-packages\\sklearn\\ensemble\\forest.py:245: FutureWarning: The default value of n_estimators will change from 10 in version 0.20 to 100 in 0.22.\n",
      "  \"10 in version 0.20 to 100 in 0.22.\", FutureWarning)\n"
     ]
    }
   ],
   "source": [
    "# Have to find feature importances somehow, so we create a random forest model and inspect that\n",
    "\n",
    "forest_reg = RandomForestRegressor()\n",
    "forest_reg.fit(housing_prepared, housing_labels)\n",
    "feature_importances = forest_reg.feature_importances_"
   ]
  },
  {
   "cell_type": "code",
   "execution_count": 31,
   "metadata": {},
   "outputs": [],
   "source": [
    "from sklearn.base import BaseEstimator, TransformerMixin\n",
    "\n",
    "def indices_of_top_k(arr, k):\n",
    "    return np.sort(np.argpartition(np.array(arr), -k)[-k:])\n",
    "\n",
    "class TopFeatureSelector(BaseEstimator, TransformerMixin):\n",
    "    def __init__(self, feature_importances, k): # Need our array of feature importance rankings and the number we'd like to keep\n",
    "        self.feature_importances = feature_importances\n",
    "        self.k = k\n",
    "    def fit(self, X, y=None):\n",
    "        self.feature_indices_ = indices_of_top_k(self.feature_importances, self.k)\n",
    "        return self\n",
    "    def transform(self, X):\n",
    "        return X[:, self.feature_indices_]"
   ]
  },
  {
   "cell_type": "code",
   "execution_count": 32,
   "metadata": {},
   "outputs": [],
   "source": [
    "k=5"
   ]
  },
  {
   "cell_type": "code",
   "execution_count": 36,
   "metadata": {},
   "outputs": [
    {
     "data": {
      "text/plain": [
       "array([[-1.15604281,  0.77194962, -0.61493744, -0.08649871,  0.        ],\n",
       "       [-1.17602483,  0.6596948 ,  1.33645936, -0.03353391,  0.        ],\n",
       "       [ 1.18684903, -1.34218285, -0.5320456 , -0.09240499,  0.        ],\n",
       "       ...,\n",
       "       [ 1.58648943, -0.72478134, -0.3167053 , -0.03055414,  1.        ],\n",
       "       [ 0.78221312, -0.85106801,  0.09812139,  0.06150916,  0.        ],\n",
       "       [-1.43579109,  0.99645926, -0.15779865, -0.09586294,  0.        ]])"
      ]
     },
     "execution_count": 36,
     "metadata": {},
     "output_type": "execute_result"
    }
   ],
   "source": [
    "# Check that it's working\n",
    "\n",
    "selector = TopFeatureSelector(feature_importances, k)\n",
    "selector.fit(housing_prepared)\n",
    "selector.transform(housing_prepared)"
   ]
  },
  {
   "cell_type": "code",
   "execution_count": 33,
   "metadata": {},
   "outputs": [],
   "source": [
    "prep_and_select_pipeline = Pipeline([\n",
    "    ('preperation', full_pipeline),\n",
    "    ('feature_selection', TopFeatureSelector(feature_importances, k))\n",
    "])"
   ]
  },
  {
   "cell_type": "code",
   "execution_count": 37,
   "metadata": {},
   "outputs": [],
   "source": [
    "housing_prepared_top_features = prep_and_select_pipeline.fit_transform(housing)"
   ]
  },
  {
   "cell_type": "code",
   "execution_count": 38,
   "metadata": {},
   "outputs": [
    {
     "data": {
      "text/plain": [
       "array([[-1.15604281,  0.77194962, -0.61493744, -0.08649871,  0.        ],\n",
       "       [-1.17602483,  0.6596948 ,  1.33645936, -0.03353391,  0.        ],\n",
       "       [ 1.18684903, -1.34218285, -0.5320456 , -0.09240499,  0.        ],\n",
       "       [-0.01706767,  0.31357576, -1.04556555,  0.08973561,  1.        ],\n",
       "       [ 0.49247384, -0.65929936, -0.44143679, -0.00419445,  0.        ]])"
      ]
     },
     "execution_count": 38,
     "metadata": {},
     "output_type": "execute_result"
    }
   ],
   "source": [
    "housing_prepared_top_features[0:5]"
   ]
  },
  {
   "cell_type": "markdown",
   "metadata": {},
   "source": [
    "**Exercise 4**\n",
    "\n",
    "Create pipeline for data prep and prediction"
   ]
  },
  {
   "cell_type": "code",
   "execution_count": 50,
   "metadata": {},
   "outputs": [],
   "source": [
    "prep_select_and_predict_pipeline = Pipeline([\n",
    "    ('preperation', full_pipeline),\n",
    "    ('feature_selection', TopFeatureSelector(feature_importances, k)),\n",
    "    ('svm_reg', SVR(**rnd_search.best_params_))\n",
    "])"
   ]
  },
  {
   "cell_type": "code",
   "execution_count": 52,
   "metadata": {},
   "outputs": [
    {
     "data": {
      "text/plain": [
       "Pipeline(memory=None,\n",
       "         steps=[('preperation',\n",
       "                 ColumnTransformer(n_jobs=None, remainder='drop',\n",
       "                                   sparse_threshold=0.3,\n",
       "                                   transformer_weights=None,\n",
       "                                   transformers=[('num',\n",
       "                                                  Pipeline(memory=None,\n",
       "                                                           steps=[('imputer',\n",
       "                                                                   SimpleImputer(add_indicator=False,\n",
       "                                                                                 copy=True,\n",
       "                                                                                 fill_value=None,\n",
       "                                                                                 missing_values=nan,\n",
       "                                                                                 strategy='median',\n",
       "                                                                                 verbose=0)),\n",
       "                                                                  ('attribs_adder',\n",
       "                                                                   CombinedAttributesAdder(add_...\n",
       "       1.19018202e-02, 1.24288759e-02, 1.26283374e-02, 4.73852096e-01,\n",
       "       2.78258192e-02, 1.23789304e-01, 2.39439353e-02, 1.04137251e-03,\n",
       "       1.38398964e-01, 1.33131544e-04, 7.89651465e-04, 2.16944520e-03]),\n",
       "                                    k=5)),\n",
       "                ('svm_reg',\n",
       "                 SVR(C=24167.809457504085, cache_size=200, coef0=0.0, degree=3,\n",
       "                     epsilon=0.1, gamma=0.6260828385112527, kernel='rbf',\n",
       "                     max_iter=-1, shrinking=True, tol=0.001, verbose=False))],\n",
       "         verbose=False)"
      ]
     },
     "execution_count": 52,
     "metadata": {},
     "output_type": "execute_result"
    }
   ],
   "source": [
    "prep_select_and_predict_pipeline.fit(housing, housing_labels)"
   ]
  },
  {
   "cell_type": "code",
   "execution_count": 53,
   "metadata": {},
   "outputs": [
    {
     "data": {
      "text/plain": [
       "array([199258.41244986, 357693.77258301, 170734.84525309,  46270.46533462])"
      ]
     },
     "execution_count": 53,
     "metadata": {},
     "output_type": "execute_result"
    }
   ],
   "source": [
    "prep_select_and_predict_pipeline.predict(housing.iloc[:4])"
   ]
  },
  {
   "cell_type": "code",
   "execution_count": 54,
   "metadata": {},
   "outputs": [
    {
     "data": {
      "text/plain": [
       "17606    286600.0\n",
       "18632    340600.0\n",
       "14650    196900.0\n",
       "3230      46300.0\n",
       "Name: median_house_value, dtype: float64"
      ]
     },
     "execution_count": 54,
     "metadata": {},
     "output_type": "execute_result"
    }
   ],
   "source": [
    "housing_labels.iloc[:4]"
   ]
  },
  {
   "cell_type": "code",
   "execution_count": null,
   "metadata": {},
   "outputs": [],
   "source": []
  }
 ],
 "metadata": {
  "kernelspec": {
   "display_name": "Python 3",
   "language": "python",
   "name": "python3"
  },
  "language_info": {
   "codemirror_mode": {
    "name": "ipython",
    "version": 3
   },
   "file_extension": ".py",
   "mimetype": "text/x-python",
   "name": "python",
   "nbconvert_exporter": "python",
   "pygments_lexer": "ipython3",
   "version": "3.7.4"
  }
 },
 "nbformat": 4,
 "nbformat_minor": 2
}
